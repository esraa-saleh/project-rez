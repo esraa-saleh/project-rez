{
  "nbformat": 4,
  "nbformat_minor": 0,
  "metadata": {
    "colab": {
      "name": "dpql1.ipynb",
      "provenance": []
    },
    "kernelspec": {
      "name": "python3",
      "display_name": "Python 3"
    },
    "language_info": {
      "name": "python"
    }
  },
  "cells": [
    {
      "cell_type": "code",
      "metadata": {
        "id": "9sy88d7yTOM_"
      },
      "source": [
        "%matplotlib inline"
      ],
      "execution_count": null,
      "outputs": []
    },
    {
      "cell_type": "code",
      "metadata": {
        "id": "CLyGbSjtTU8F"
      },
      "source": [
        "from gym.spaces.box import Box\n",
        "from gym.spaces.discrete import Discrete\n",
        "import numpy as np\n",
        "\n",
        "class hitorstandcontinuous:\n",
        "    def __init__(self):\n",
        "        self.observation_space = Box(0*np.ones(1), 1.0*np.ones(1), dtype=np.float64)\n",
        "        self.action_space = Discrete(2)\n",
        "        self.num_envs = 1\n",
        "        self.cnt = 0\n",
        "        self.length = 50\n",
        "\n",
        "    def step(self, action):\n",
        "        self.cnt += 1\n",
        "        #if action == 1:\n",
        "        #    if self.state > 0.5:\n",
        "        #        self.state = np.random.uniform(0.0, self.state, (1,))\n",
        "        #    else:\n",
        "        #        self.state = np.random.uniform(self.state, 1.0, (1,))\n",
        "        #reward = 0.0\n",
        "        if action == 1:\n",
        "            next__state = min(self.state + np.random.uniform(0.0, 0.25, (1,)), np.array([1.0])) \n",
        "            reward =  float(next__state//0.05 - self.state//0.05)\n",
        "            self.state = next__state\n",
        "            \n",
        "        elif action == 0:\n",
        "            self.state = max(self.state - np.random.uniform(0.0, 0.25, (1,)), np.array([0.0]))\n",
        "            reward = 0\n",
        "        if self.state == np.array([1.0]):\n",
        "          done = np.array([True])\n",
        "        else:\n",
        "          done = np.array([self.cnt == self.length])\n",
        "        #reward = float(0.5 - np.abs(self.state-0.5))\n",
        "        if done:\n",
        "            self.cnt = 0\n",
        "        #    reward = float(self.state)\n",
        "        return self.state, reward, done, None\n",
        "\n",
        "    def reset(self):\n",
        "        self.cnt = 0\n",
        "        self.state  = np.array([0.5])\n",
        "        #self.state = np.random.uniform(0.0, 1.0, (1,))\n",
        "        return self.state\n",
        "\n",
        "    def render(self):\n",
        "        raise NotImplementedError\n",
        "\n",
        "    def seed(self, seed_value):\n",
        "        np.random.seed(seed)\n",
        "        print('numpy seed is changed to {} globally'.format(seed))"
      ],
      "execution_count": null,
      "outputs": []
    },
    {
      "cell_type": "code",
      "metadata": {
        "id": "BxwjHl2qTZri"
      },
      "source": [
        "import gym\n",
        "import math\n",
        "import random\n",
        "import numpy as np\n",
        "import matplotlib\n",
        "import matplotlib.pyplot as plt\n",
        "from collections import namedtuple\n",
        "from itertools import count\n",
        "from PIL import Image\n",
        "\n",
        "import torch\n",
        "import torch.nn as nn\n",
        "import torch.optim as optim\n",
        "import torch.nn.functional as F\n",
        "\n",
        "\n",
        "env = hitorstandcontinuous()\n",
        "m = env.action_space.n\n",
        "\n",
        "seed = 3\n",
        "np.random.seed(seed)\n",
        "torch.manual_seed(seed)\n",
        "\n",
        "\n",
        "# set up matplotlib\n",
        "is_ipython = 'inline' in matplotlib.get_backend()\n",
        "if is_ipython:\n",
        "    from IPython import display\n",
        "\n",
        "plt.ion()\n",
        "\n",
        "# if gpu is to be used\n",
        "device = \"cpu\""
      ],
      "execution_count": null,
      "outputs": []
    },
    {
      "cell_type": "code",
      "metadata": {
        "id": "h_dd_gQ3Te-2"
      },
      "source": [
        "import bisect\n",
        "import numpy as np\n",
        "\n",
        "def kk(x, y):\n",
        "    return np.exp(-abs(x-y))\n",
        "\n",
        "def rho(x, y):\n",
        "    return np.exp(abs(x-y)) - np.exp(-abs(x-y))\n",
        "\n",
        "class noisebuffer:\n",
        "    def __init__(self, m, sigma):\n",
        "        self.buffer = []\n",
        "        self.base = {}\n",
        "        self.m = m\n",
        "        self.sigma = sigma\n",
        "\n",
        "    def sample(self, s):\n",
        "        buffer = self.buffer\n",
        "        sigma = self.sigma\n",
        "            \n",
        "        if len(buffer) == 0:\n",
        "            v0 = np.random.normal(0, sigma)\n",
        "            v1 = np.random.normal(0, sigma)\n",
        "            self.buffer.append((s, v0, v1))\n",
        "            return (v0, v1)\n",
        "        else:\n",
        "            idx = bisect.bisect(buffer, (s, 0, 0))\n",
        "            if len(buffer) == 1:\n",
        "                if buffer[0][0] == s:\n",
        "                    return (buffer[0][1], buffer[0][2])\n",
        "            else:\n",
        "                if (idx <= len(buffer)-1) and (buffer[idx][0] == s):\n",
        "                    return (buffer[idx][1], buffer[idx][2])\n",
        "                elif (idx >= 1) and (buffer[idx-1][0] == s):\n",
        "                    return (buffer[idx-1][1], buffer[idx-1][2])\n",
        "                elif (idx <= len(buffer)-2) and (buffer[idx+1][0] == s):\n",
        "                    return (buffer[idx+1][1], buffer[idx+1][2])\n",
        "            \n",
        "        if s < buffer[0][0]:\n",
        "            mean0 = kk(s, buffer[0][0]) * buffer[0][1]\n",
        "            mean1 = kk(s, buffer[0][0]) * buffer[0][2]\n",
        "            var0 = 1 - kk(s, buffer[0][0]) ** 2\n",
        "            var1 = 1 - kk(s, buffer[0][0]) ** 2\n",
        "            v0 = np.random.normal(mean0, np.sqrt(var0) * sigma)\n",
        "            v1 = np.random.normal(mean1, np.sqrt(var1) * sigma)\n",
        "            self.buffer.insert(0, (s, v0, v1))\n",
        "        elif s > buffer[-1][0]:\n",
        "            mean0 = kk(s, buffer[-1][0]) * buffer[0][1]\n",
        "            mean1 = kk(s, buffer[-1][0]) * buffer[0][2]\n",
        "            var0 = 1 - kk(s, buffer[-1][0]) ** 2\n",
        "            var1 = var0\n",
        "            v0 = np.random.normal(mean0, np.sqrt(var0) * sigma)\n",
        "            v1 = np.random.normal(mean1, np.sqrt(var1) * sigma)\n",
        "            self.buffer.insert(len(buffer), (s, v0, v1))\n",
        "        else:\n",
        "            idx = bisect.bisect(buffer, (s, None, None))\n",
        "            sminus, eminus0, eminus1 = buffer[idx-1]\n",
        "            splus, eplus0, eplus1 = buffer[idx]\n",
        "            mean0 = (rho(splus, s)*eminus0 + rho(sminus, s)*eplus0) / rho(sminus, splus)\n",
        "            mean1 = (rho(splus, s)*eminus1 + rho(sminus, s)*eplus1) / rho(sminus, splus)\n",
        "            var0 = 1 - (kk(sminus, s)*rho(splus, s) + kk(splus, s)*rho(sminus, s)) / rho(sminus, splus)\n",
        "            var1 = var0\n",
        "            v0 = np.random.normal(mean0, np.sqrt(var0) * sigma)\n",
        "            v1 = np.random.normal(mean1, np.sqrt(var1) * sigma)\n",
        "            self.buffer.insert(idx, (s, v0, v1))\n",
        "        return (v0, v1)\n",
        "\n",
        "    def reset(self):\n",
        "        self.buffer = []"
      ],
      "execution_count": null,
      "outputs": []
    },
    {
      "cell_type": "code",
      "metadata": {
        "colab": {
          "base_uri": "https://localhost:8080/",
          "height": 54
        },
        "id": "natfRibUTkuh",
        "outputId": "f49982e8-6bfc-4681-cabf-760053b30cfe"
      },
      "source": [
        "'''\n",
        "nb = noisebuffer(2, 1.)\n",
        "print(nb.sample(0.5))\n",
        "print(nb.sample(0.3))\n",
        "print(nb.sample(0.7))\n",
        "print(nb.sample(0.4))\n",
        "print(nb.sample(0.5))\n",
        "print(nb.sample(0.7))\n",
        "'''"
      ],
      "execution_count": null,
      "outputs": [
        {
          "output_type": "execute_result",
          "data": {
            "application/vnd.google.colaboratory.intrinsic+json": {
              "type": "string"
            },
            "text/plain": [
              "'\\nnb = noisebuffer(2, 1.)\\nprint(nb.sample(0.5))\\nprint(nb.sample(0.3))\\nprint(nb.sample(0.7))\\nprint(nb.sample(0.4))\\nprint(nb.sample(0.5))\\nprint(nb.sample(0.7))\\n'"
            ]
          },
          "metadata": {},
          "execution_count": 18
        }
      ]
    },
    {
      "cell_type": "code",
      "metadata": {
        "id": "Wo14gv31ToMl"
      },
      "source": [
        "Transition = namedtuple('Transition',\n",
        "                        ('state', 'action', 'next_state', 'reward'))\n",
        "\n",
        "\n",
        "class ReplayMemory(object):\n",
        "\n",
        "    def __init__(self, capacity):\n",
        "        self.capacity = capacity\n",
        "        self.memory = []\n",
        "        self.position = 0\n",
        "\n",
        "    def push(self, *args):\n",
        "        \"\"\"Saves a transition.\"\"\"\n",
        "        if len(self.memory) < self.capacity:\n",
        "            self.memory.append(None)\n",
        "        self.memory[self.position] = Transition(*args)\n",
        "        self.position = (self.position + 1) % self.capacity\n",
        "\n",
        "    def sample(self, batch_size):\n",
        "        return random.sample(self.memory, batch_size)\n",
        "\n",
        "    def __len__(self):\n",
        "        return len(self.memory)"
      ],
      "execution_count": null,
      "outputs": []
    },
    {
      "cell_type": "code",
      "metadata": {
        "id": "ew_iFFkiTsBv"
      },
      "source": [
        "class DQN(nn.Module):\n",
        "\n",
        "    def __init__(self, hidden=16):\n",
        "        super(DQN, self).__init__()\n",
        "        self.linear1 = nn.Linear(1, hidden)\n",
        "        self.linear2 = nn.Linear(hidden, hidden)\n",
        "        self.head = nn.Linear(hidden, m)\n",
        "        self.nb = noisebuffer(2, 0.4)\n",
        "\n",
        "\n",
        "    # Called with either one element to determine next action, or a batch\n",
        "    # during optimization. Returns tensor([[left0exp,right0exp]...]).\n",
        "    def forward(self, s):\n",
        "        x = F.relu(self.linear1(s))\n",
        "        x = F.relu(self.linear2(x))\n",
        "        x = self.head(x)\n",
        "        eps = [self.nb.sample(float(state)) for state in s]\n",
        "        eps = torch.Tensor(eps)\n",
        "        return x + eps"
      ],
      "execution_count": null,
      "outputs": []
    },
    {
      "cell_type": "code",
      "metadata": {
        "id": "72uSL_v9Tyd4"
      },
      "source": [
        "BATCH_SIZE = 128\n",
        "GAMMA = 0.999\n",
        "EPS_START = 0.9\n",
        "EPS_END = 0.05\n",
        "EPS_DECAY = 200\n",
        "TARGET_UPDATE = 10\n",
        "\n",
        "policy_net = DQN().to(device)\n",
        "target_net = DQN().to(device)\n",
        "target_net.load_state_dict(policy_net.state_dict())\n",
        "target_net.eval()\n",
        "\n",
        "optimizer = optim.RMSprop(policy_net.parameters())\n",
        "memory = ReplayMemory(10000)\n",
        "\n",
        "\n",
        "steps_done = 0\n",
        "\n",
        "\n",
        "def select_action(state):\n",
        "    global steps_done\n",
        "    sample = random.random()\n",
        "    eps_threshold = EPS_END + (EPS_START - EPS_END) * \\\n",
        "        math.exp(-1. * steps_done / EPS_DECAY)\n",
        "    steps_done += 1\n",
        "    if sample > eps_threshold:\n",
        "        with torch.no_grad():\n",
        "            # t.max(1) will return largest value for column of each row.\n",
        "            # second column on max result is index of where max element was\n",
        "            # found, so we pick action with the larger expected reward.\n",
        "            return policy_net(state).max(1)[1].view(1, 1)\n",
        "    else:\n",
        "        return torch.tensor([[random.randrange(m)]], device=device, dtype=torch.long)\n",
        "\n",
        "\n",
        "episode_durations = []\n",
        "\n",
        "\n",
        "def plot_durations():\n",
        "    plt.figure(2)\n",
        "    plt.clf()\n",
        "    durations_t = torch.tensor(episode_durations, dtype=torch.float)\n",
        "    plt.title('Training...')\n",
        "    plt.xlabel('Episode')\n",
        "    plt.ylabel('Duration')\n",
        "    plt.plot(durations_t.numpy())\n",
        "    # Take 100 episode averages and plot them too\n",
        "    if len(durations_t) >= 100:\n",
        "        means = durations_t.unfold(0, 100, 1).mean(1).view(-1)\n",
        "        means = torch.cat((torch.zeros(99), means))\n",
        "        plt.plot(means.numpy())\n",
        "\n",
        "    plt.pause(0.001)  # pause a bit so that plots are updated\n",
        "    if is_ipython:\n",
        "        display.clear_output(wait=True)\n",
        "        display.display(plt.gcf())"
      ],
      "execution_count": null,
      "outputs": []
    },
    {
      "cell_type": "code",
      "metadata": {
        "id": "cowZ5a7gT3RC"
      },
      "source": [
        "def optimize_model():\n",
        "    if len(memory) < BATCH_SIZE:\n",
        "        return\n",
        "    transitions = memory.sample(BATCH_SIZE)\n",
        "    # Transpose the batch (see https://stackoverflow.com/a/19343/3343043 for\n",
        "    # detailed explanation). This converts batch-array of Transitions\n",
        "    # to Transition of batch-arrays.\n",
        "    batch = Transition(*zip(*transitions))\n",
        "\n",
        "    # Compute a mask of non-final states and concatenate the batch elements\n",
        "    # (a final state would've been the one after which simulation ended)\n",
        "    non_final_mask = torch.tensor(tuple(map(lambda s: s is not None,\n",
        "                                          batch.next_state)), device=device, dtype=torch.uint8)\n",
        "    non_final_next_states = torch.cat([s for s in batch.next_state\n",
        "                                                if s is not None])\n",
        "    state_batch = torch.cat(batch.state)\n",
        "    action_batch = torch.cat(batch.action)\n",
        "    #import pdb; pdb.set_trace()\n",
        "    reward_batch = torch.cat(batch.reward)\n",
        "\n",
        "    # Compute Q(s_t, a) - the model computes Q(s_t), then we select the\n",
        "    # columns of actions taken. These are the actions which would've been taken\n",
        "    # for each batch state according to policy_net\n",
        "    state_action_values = policy_net(state_batch).gather(1, action_batch)\n",
        "\n",
        "    # Compute V(s_{t+1}) for all next states.\n",
        "    # Expected values of actions for non_final_next_states are computed based\n",
        "    # on the \"older\" target_net; selecting their best reward with max(1)[0].\n",
        "    # This is merged based on the mask, such that we'll have either the expected\n",
        "    # state value or 0 in case the state was final.\n",
        "    next_state_values = torch.zeros(BATCH_SIZE, device=device)\n",
        "    next_state_values[non_final_mask] = target_net(non_final_next_states).max(1)[0].detach()\n",
        "    # Compute the expected Q values\n",
        "    expected_state_action_values = (next_state_values * GAMMA) + reward_batch\n",
        "\n",
        "    # Compute Huber loss\n",
        "    loss = F.smooth_l1_loss(state_action_values, expected_state_action_values.unsqueeze(1))\n",
        "\n",
        "    # Optimize the model\n",
        "    optimizer.zero_grad()\n",
        "    loss.backward()\n",
        "    for param in policy_net.parameters():\n",
        "        param.grad.data.clamp_(-1, 1)\n",
        "    optimizer.step()"
      ],
      "execution_count": null,
      "outputs": []
    },
    {
      "cell_type": "code",
      "metadata": {
        "colab": {
          "base_uri": "https://localhost:8080/"
        },
        "id": "x7Hn9KKsT7km",
        "outputId": "9fb27a78-9017-4f82-a24d-80fa126bb6d5"
      },
      "source": [
        "num_episodes = 100\n",
        "episodic_rewards = []\n",
        "for i_episode in range(num_episodes):\n",
        "    if i_episode % 10 == 0:\n",
        "        print(i_episode)\n",
        "    # Initialize the environment and state\n",
        "    state = torch.Tensor(env.reset()).unsqueeze(0)\n",
        "    total_reward = 0\n",
        "    for t in count():\n",
        "        # Select and perform an action\n",
        "        action = select_action(state)\n",
        "        next_state, reward, done, info = env.step(action.item())\n",
        "        reward = torch.tensor([reward], device=device)\n",
        "\n",
        "        if not done:\n",
        "            next_state = torch.Tensor(next_state).unsqueeze(0)\n",
        "        else:\n",
        "            next_state = None\n",
        "\n",
        "        # Store the transition in memory\n",
        "        memory.push(state, action, next_state, reward)\n",
        "        #import pdb; pdb.set_trace()\n",
        "        total_reward += float(reward.squeeze(0).data)\n",
        "\n",
        "        # Move to the next state\n",
        "        state = next_state\n",
        "\n",
        "        # Perform one step of the optimization (on the target network)\n",
        "        optimize_model()\n",
        "        if done:\n",
        "            episode_durations.append(t + 1)\n",
        "            #plot_durations()\n",
        "            break\n",
        "    # Update the target network, copying all weights and biases in DQN\n",
        "    if i_episode % TARGET_UPDATE == 0:\n",
        "        target_net.load_state_dict(policy_net.state_dict())\n",
        "    episodic_rewards.append(total_reward)\n",
        "    #policy_net.nb.reset()\n",
        "    #target_net.nb.reset()\n",
        "\n",
        "print('Complete')\n",
        "plt.ioff()\n",
        "plt.show()"
      ],
      "execution_count": null,
      "outputs": [
        {
          "output_type": "stream",
          "name": "stdout",
          "text": [
            "0\n",
            "10\n"
          ]
        },
        {
          "output_type": "stream",
          "name": "stderr",
          "text": [
            "/usr/local/lib/python3.7/dist-packages/ipykernel_launcher.py:32: UserWarning: indexing with dtype torch.uint8 is now deprecated, please use a dtype torch.bool instead. (Triggered internally at  /pytorch/aten/src/ATen/native/IndexingUtils.h:30.)\n"
          ]
        },
        {
          "output_type": "stream",
          "name": "stdout",
          "text": [
            "20\n",
            "30\n",
            "40\n",
            "50\n",
            "60\n",
            "70\n",
            "80\n",
            "90\n",
            "Complete\n"
          ]
        }
      ]
    },
    {
      "cell_type": "code",
      "metadata": {
        "colab": {
          "base_uri": "https://localhost:8080/",
          "height": 265
        },
        "id": "TDu739KiUAf7",
        "outputId": "fb407653-a3b1-4f56-f8e7-495214e48cea"
      },
      "source": [
        "plt.plot(episodic_rewards)\n",
        "plt.show()"
      ],
      "execution_count": null,
      "outputs": [
        {
          "output_type": "display_data",
          "data": {
            "image/png": "[encoded data removed]",
            "text/plain": [
              "<Figure size 432x288 with 1 Axes>"
            ]
          },
          "metadata": {
            "needs_background": "light"
          }
        }
      ]
    },
    {
      "cell_type": "code",
      "metadata": {
        "colab": {
          "base_uri": "https://localhost:8080/"
        },
        "id": "KKvN3Y1hUDmX",
        "outputId": "a29c3327-6156-4498-9e21-60a62820566c"
      },
      "source": [
        "state = torch.Tensor(env.reset()).unsqueeze(0)\n",
        "policy_net(state)"
      ],
      "execution_count": null,
      "outputs": [
        {
          "output_type": "execute_result",
          "data": {
            "text/plain": [
              "tensor([[12.4044, 13.2997]], grad_fn=<AddBackward0>)"
            ]
          },
          "metadata": {},
          "execution_count": 25
        }
      ]
    },
    {
      "cell_type": "code",
      "metadata": {
        "colab": {
          "base_uri": "https://localhost:8080/"
        },
        "id": "d_zm5eewUGq2",
        "outputId": "3588c97d-8b9d-4bb9-9fda-0ecd9613ccc2"
      },
      "source": [
        "print(episodic_rewards)\n",
        "with open('dpql.txt', 'a') as fw:\n",
        "    for rr in episodic_rewards:\n",
        "        fw.write(str(rr))\n",
        "        fw.write(' ')\n",
        "    fw.write('\\n')"
      ],
      "execution_count": null,
      "outputs": [
        {
          "output_type": "stream",
          "name": "stdout",
          "text": [
            "[12.0, 18.0, 17.0, 24.0, 41.0, 22.0, 14.0, 31.0, 10.0, 12.0, 11.0, 19.0, 13.0, 10.0, 22.0, 23.0, 33.0, 10.0, 10.0, 28.0, 10.0, 20.0, 10.0, 14.0, 10.0, 10.0, 10.0, 13.0, 10.0, 16.0, 11.0, 10.0, 43.0, 21.0, 13.0, 19.0, 19.0, 17.0, 10.0, 10.0, 13.0, 10.0, 23.0, 53.0, 58.0, 65.0, 61.0, 10.0, 72.0, 51.0, 29.0, 62.0, 28.0, 65.0, 65.0, 60.0, 63.0, 40.0, 63.0, 64.0, 69.0, 15.0, 48.0, 58.0, 64.0, 57.0, 57.0, 56.0, 40.0, 14.0, 63.0, 61.0, 64.0, 67.0, 72.0, 47.0, 64.0, 55.0, 61.0, 57.0, 55.0, 57.0, 66.0, 57.0, 63.0, 64.0, 62.0, 73.0, 61.0, 10.0, 49.0, 54.0, 50.0, 57.0, 71.0, 64.0, 74.0, 60.0, 70.0, 42.0]\n"
          ]
        }
      ]
    },
    {
      "cell_type": "code",
      "metadata": {
        "id": "oFguj99RXh_7"
      },
      "source": [
        ""
      ],
      "execution_count": null,
      "outputs": []
    }
  ]
}